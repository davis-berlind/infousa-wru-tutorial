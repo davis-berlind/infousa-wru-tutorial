{
 "cells": [
  {
   "cell_type": "markdown",
   "metadata": {},
   "source": [
    "# Working with InfoUSA Race Data\n",
    "\n",
    "Information on the head of household's race is stored in the variable `Ethnicity_Code_1`. Unfortunately, this variable does not come in a usable format and requires some cleaning. `Ethnicity_Code_1` contains a two-letter code for specific ethnicities, and we have come up with a standardization for converting these ethnicity codes to broader racial categories. The broader racial categories we use are \n",
    "\n",
    "| Code | Race | \n",
    "|:---: | :---|\n",
    "| A | Asian| \n",
    "| B | Black or African American |\n",
    "| H | Hispanic or Latino |\n",
    "| M | Two or More Races |\n",
    "| N | American Indian and Alaska Native |\n",
    "| P | Native Hawaiian or Other Pacific Islander |\n",
    "| W | White Alone, Not Hispanic or Latino |\n",
    "| Z | Unknown/Other |\n",
    "\n",
    "The index for converting `Ethnicity_Code_1` to race is available in the file `IU_ethnicity_codes.csv` and the process for converting `Ethnicity_Code_1` to a race variable just involves a simple left join."
   ]
  },
  {
   "cell_type": "code",
   "execution_count": 2,
   "metadata": {},
   "outputs": [
    {
     "data": {
      "text/html": [
       "<table>\n",
       "<thead><tr><th scope=col>description</th><th scope=col>subcode</th><th scope=col>code</th><th scope=col>race</th></tr></thead>\n",
       "<tbody>\n",
       "\t<tr><td>Bangladesh</td><td>BD        </td><td>A         </td><td>A         </td></tr>\n",
       "\t<tr><td>Bhutanese </td><td>BT        </td><td>A         </td><td>A         </td></tr>\n",
       "\t<tr><td>Chinese   </td><td>CN        </td><td>F         </td><td>A         </td></tr>\n",
       "\t<tr><td>Indonesian</td><td>ID        </td><td>F         </td><td>A         </td></tr>\n",
       "\t<tr><td>Indian    </td><td>IN        </td><td>A         </td><td>A         </td></tr>\n",
       "\t<tr><td>Japanese  </td><td>JP        </td><td>F         </td><td>A         </td></tr>\n",
       "</tbody>\n",
       "</table>\n"
      ],
      "text/latex": [
       "\\begin{tabular}{r|llll}\n",
       " description & subcode & code & race\\\\\n",
       "\\hline\n",
       "\t Bangladesh & BD         & A          & A         \\\\\n",
       "\t Bhutanese  & BT         & A          & A         \\\\\n",
       "\t Chinese    & CN         & F          & A         \\\\\n",
       "\t Indonesian & ID         & F          & A         \\\\\n",
       "\t Indian     & IN         & A          & A         \\\\\n",
       "\t Japanese   & JP         & F          & A         \\\\\n",
       "\\end{tabular}\n"
      ],
      "text/markdown": [
       "\n",
       "| description | subcode | code | race |\n",
       "|---|---|---|---|\n",
       "| Bangladesh | BD         | A          | A          |\n",
       "| Bhutanese  | BT         | A          | A          |\n",
       "| Chinese    | CN         | F          | A          |\n",
       "| Indonesian | ID         | F          | A          |\n",
       "| Indian     | IN         | A          | A          |\n",
       "| Japanese   | JP         | F          | A          |\n",
       "\n"
      ],
      "text/plain": [
       "  description subcode code race\n",
       "1 Bangladesh  BD      A    A   \n",
       "2 Bhutanese   BT      A    A   \n",
       "3 Chinese     CN      F    A   \n",
       "4 Indonesian  ID      F    A   \n",
       "5 Indian      IN      A    A   \n",
       "6 Japanese    JP      F    A   "
      ]
     },
     "metadata": {},
     "output_type": "display_data"
    }
   ],
   "source": [
    "# NOTE: This tutorial was written using R 3.6.3. \n",
    "# for best results use a distribution >=3.6.3\n",
    "\n",
    "# loading data cleaning packages\n",
    "library(data.table)\n",
    "library(dplyr)\n",
    "\n",
    "# load the ethnicity-race-code index\n",
    "race_codes <- fread(\"IU_ethnicity_codes.csv\")\n",
    "\n",
    "# take a peak at the ethnicity codes\n",
    "head(race_codes)"
   ]
  },
  {
   "cell_type": "code",
   "execution_count": 3,
   "metadata": {},
   "outputs": [
    {
     "name": "stdout",
     "output_type": "stream",
     "text": [
      "[1] \"Race Distribution:\"\n"
     ]
    },
    {
     "data": {
      "text/plain": [
       "\n",
       " A  B  H  W  Z \n",
       " 3 13  5 72  7 "
      ]
     },
     "metadata": {},
     "output_type": "display_data"
    }
   ],
   "source": [
    "# we only need the subcode and race\n",
    "race_codes <- select(race_codes, subcode, race)\n",
    "\n",
    "# load InfoUSA sample\n",
    "iu <- fread(\"small_durm.csv\",\n",
    "            keepLeadingZeros = TRUE)\n",
    "\n",
    "# there's an issue in the InfoUSA data where the Namibia code \n",
    "# was originally set to \"NA\", which ends up being read as a missing \n",
    "# value, so we need to convert NAs to the actual text \"NA\"\n",
    "iu$Ethnicity_Code_1 <- ifelse(is.na(iu$Ethnicity_Code_1), \"NA\", iu$Ethnicity_Code_1)\n",
    "\n",
    "# merging data and index\n",
    "iu <- left_join(iu, race_codes, by = c(\"Ethnicity_Code_1\" = \"subcode\"))\n",
    "\n",
    "# here's the distribution of races in our sample\n",
    "print(\"Race Distribution:\")\n",
    "table(iu$race)"
   ]
  },
  {
   "cell_type": "markdown",
   "metadata": {},
   "source": [
    "## Missing Data\n",
    "\n",
    "The big problem with the `Ethnicity_Code_1` variable in the InfoUSA data is that a large number of individuals are marked with the missing/unkown ethnicity code `00`. For the earlier years, this leads to almost half of the observations missing a race classification (this is from a one percent sample of the block groups in the data). \n",
    "\n",
    "| Year |  A   |  B   |   H   |  M   |  N   |  P   |   W   |   Z   |\n",
    "|:----:|:----:|:----:|:-----:|:----:|:----:|:----:|:-----:|:-----:|\n",
    "| 2006 | 1.8% | 3.4% | 4.8%  | 0.0% | 0.1% | 0.0% | 44.0% | 45.9% |\n",
    "| 2007 | 1.9% | 3.5% | 5.2%  | 0.0% | 0.1% | 0.0% | 45.4% | 43.9% |\n",
    "| 2008 | 2.0% | 3.8% | 5.7%  | 0.0% | 0.1% | 0.0% | 48.5% | 39.9% |\n",
    "| 2009 | 2.2% | 4.2% | 6.2%  | 0.0% | 0.1% | 0.0% | 52.0% | 35.3% |\n",
    "| 2010 | 2.5% | 4.7% | 6.8%  | 0.0% | 0.1% | 0.0% | 56.9% | 29.0% |\n",
    "| 2011 | 2.8% | 4.7% | 7.4%  | 0.0% | 0.1% | 0.0% | 59.7% | 25.2% |\n",
    "| 2012 | 3.1% | 5.4% | 8.5%  | 0.0% | 0.1% | 0.0% | 65.0% | 17.9% |\n",
    "| 2013 | 3.7% | 6.5% | 10.3% | 0.0% | 0.1% | 0.0% | 72.3% | 7.0%  |\n",
    "| 2014 | 3.8% | 6.5% | 10.4% | 0.0% | 0.1% | 0.0% | 72.3% | 6.9%  |\n",
    "| 2015 | 3.8% | 6.3% | 10.4% | 0.0% | 0.1% | 0.0% | 72.3% | 6.9%  |\n",
    "| 2016 | 3.6% | 6.6% | 10.3% | 0.0% | 0.1% | 0.0% | 72.4% | 7.0%  |\n",
    "| 2017 | 3.8% | 6.5% | 10.8% | 0.0% | 0.1% | 0.0% | 71.9% | 6.9%  |\n",
    "\n",
    "We have chosen to work around this missing data problem by using the package [`wru`](https://github.com/kosukeimai/wru), which implements the methods described in [Imai and Khanna (2016)](https://imai.fas.harvard.edu/research/files/race.pdf) to predict an individual's race from their last name and geographic location. "
   ]
  },
  {
   "cell_type": "markdown",
   "metadata": {},
   "source": [
    "## Using the `wru` Package \n",
    "\n",
    "To use `wru`, you will first need to aquire an API key from [here](https://api.census.gov/data/key_signup.html). Once you have an API key, you can download the required Census geographic data using the following parallelized script."
   ]
  },
  {
   "cell_type": "markdown",
   "metadata": {},
   "source": [
    "```\n",
    "library(wru)\n",
    "library(foreach)\n",
    "library(doParallel)\n",
    "\n",
    "key <- \"INSERT YOUR KEY\"\n",
    "states <- c(state.abb, \"DC\")\n",
    "codes <- data.frame(code = c(1:5, NA), race = c(\"W\", \"B\", \"H\", \"A\", \"Z\", \"Z\"))\n",
    "\n",
    "# Setting up parallels\n",
    "numcores <- detectCores()\n",
    "cl <- makeCluster(numcores)\n",
    "registerDoParallel(cl)\n",
    "\n",
    "# download census geographic data\n",
    "census <- foreach(i = 1:51, .packages = c(\"data.table\", \"dplyr\", \"wru\")) %dopar% {\n",
    "  get_census_data(key, states[i], retry = 5)\n",
    "}\n",
    "stopCluster(cl)\n",
    "\n",
    "tmp <- list()\n",
    "for(i in 1:51){\n",
    "  for (state in states) {\n",
    "    if(!is.null(census[[i]][[state]]))\n",
    "      tmp[[state]] <- census[[i]][[state]]\n",
    "  }\n",
    "}\n",
    "census <- tmp\n",
    "rm(tmp)\n",
    "```"
   ]
  },
  {
   "cell_type": "markdown",
   "metadata": {},
   "source": [
    "Alternatively, you can use the preloaded data in this repository. "
   ]
  },
  {
   "cell_type": "code",
   "execution_count": 4,
   "metadata": {},
   "outputs": [],
   "source": [
    "# loading census data\n",
    "census <- readRDS(\"census.rds\")"
   ]
  },
  {
   "cell_type": "markdown",
   "metadata": {},
   "source": [
    "We will now use the `predict_race` function from `wru` to impute the race for each of the individuals in our data. The first argument of `predict_race` is `voter.file`, which is just a `data.frame` containing all the observations we want to predict race for. `voter.file` needs certain columns to follow specific naming conventions: \n",
    "- A column called `surname` containing the last names of each of the observations.\n",
    "- A column called `state` containing the two-letter abbreviations of the states for each observation.\n",
    "- A column called `CD` containing the two-digit FIPS code of the states for each observation.\n",
    "- A column called `county` containing the three-digit FIPS code of the counties for each observation.\n",
    "- A column called `tract` containing the six-digit FIPS code of the Census tracts for each observation.\n",
    "\n",
    "`predict_race` also has an argument `census.geo`, which specifies the geographic level at which we want to merge the names in our data to the Census' surname list. The values \"county\", \"tract\", \"block\", and \"place\" are supported, but in practice we use \"tract\" in order to be specific without making the list of Census surnames too narrow (to use \"block\" `voter.file` would also need a column called `block` containing the four-digit Census block number)."
   ]
  },
  {
   "cell_type": "code",
   "execution_count": 5,
   "metadata": {},
   "outputs": [],
   "source": [
    "# another issue in the InfoUSA data is that the last name \"Na\" has been \n",
    "# converted to a missing NA value so we quickly correct this \n",
    "iu$last_name_1 = ifelse(is.na(iu$last_name_1), \"NA\", iu$last_name_1)\n",
    "\n",
    "# renaming according to wru conventions\n",
    "iu <- iu %>% \n",
    "    rename(\"surname\" = \"last_name_1\", \n",
    "           \"CD\" = \"GE_CENSUS_STATE_2010\",\n",
    "           \"state\" = \"STATE\",\n",
    "           \"county\" = \"GE_ALS_COUNTY_CODE_2010\", \n",
    "           \"tract\" = \"GE_ALS_CENSUS_TRACT_2010\")"
   ]
  },
  {
   "cell_type": "markdown",
   "metadata": {},
   "source": [
    "The output of `predict_race` is a new `data.frame` object with the same columns as the input `voter.file`, plus five new columns `pred.whi`, `pred.bla`,\t`pred.his`, `pred.asi`, and `pred.oth`, containing the posterior probabilities for \"W\", \"B\", \"H\", \"A\", and \"Z\" respectively."
   ]
  },
  {
   "cell_type": "code",
   "execution_count": 6,
   "metadata": {},
   "outputs": [
    {
     "name": "stderr",
     "output_type": "stream",
     "text": [
      "Warning message:\n",
      "\"package 'wru' was built under R version 3.6.3\""
     ]
    },
    {
     "name": "stdout",
     "output_type": "stream",
     "text": [
      "[1] \"Proceeding with Census geographic data at tract level...\"\n",
      "[1] \"Using Census geographic data from provided census.data object...\"\n"
     ]
    },
    {
     "name": "stderr",
     "output_type": "stream",
     "text": [
      "Warning message in merge_surnames(voter.file):\n",
      "\"Probabilities were imputed for 10 surnames that could not be matched to Census list.\""
     ]
    },
    {
     "name": "stdout",
     "output_type": "stream",
     "text": [
      "[1] \"State 1 of 11: NC\"\n",
      "[1] \"State 2 of 11: MD\"\n",
      "[1] \"State 3 of 11: NJ\"\n",
      "[1] \"State 4 of 11: AZ\"\n",
      "[1] \"State 5 of 11: CO\"\n",
      "[1] \"State 6 of 11: MA\"\n",
      "[1] \"State 7 of 11: TX\"\n",
      "[1] \"State 8 of 11: NY\"\n",
      "[1] \"State 9 of 11: MO\"\n",
      "[1] \"State 10 of 11: IN\"\n",
      "[1] \"State 11 of 11: OH\"\n"
     ]
    },
    {
     "data": {
      "text/html": [
       "<table>\n",
       "<thead><tr><th scope=col>pred.whi</th><th scope=col>pred.bla</th><th scope=col>pred.his</th><th scope=col>pred.asi</th><th scope=col>pred.oth</th></tr></thead>\n",
       "<tbody>\n",
       "\t<tr><td>0.9831060   </td><td>0.0005493683</td><td>0.008515082 </td><td>0.001383999 </td><td>0.006445555 </td></tr>\n",
       "\t<tr><td>0.7418055   </td><td>0.1667299455</td><td>0.058974333 </td><td>0.005135683 </td><td>0.027354495 </td></tr>\n",
       "\t<tr><td>0.4298657   </td><td>0.4646243415</td><td>0.060784471 </td><td>0.005513481 </td><td>0.039211969 </td></tr>\n",
       "\t<tr><td>0.7161379   </td><td>0.1557208313</td><td>0.102118771 </td><td>0.008180620 </td><td>0.017841928 </td></tr>\n",
       "\t<tr><td>0.9865986   </td><td>0.0031941780</td><td>0.006840289 </td><td>0.001524430 </td><td>0.001842551 </td></tr>\n",
       "\t<tr><td>0.5910814   </td><td>0.3613312878</td><td>0.020105730 </td><td>0.004186642 </td><td>0.023294915 </td></tr>\n",
       "</tbody>\n",
       "</table>\n"
      ],
      "text/latex": [
       "\\begin{tabular}{r|lllll}\n",
       " pred.whi & pred.bla & pred.his & pred.asi & pred.oth\\\\\n",
       "\\hline\n",
       "\t 0.9831060    & 0.0005493683 & 0.008515082  & 0.001383999  & 0.006445555 \\\\\n",
       "\t 0.7418055    & 0.1667299455 & 0.058974333  & 0.005135683  & 0.027354495 \\\\\n",
       "\t 0.4298657    & 0.4646243415 & 0.060784471  & 0.005513481  & 0.039211969 \\\\\n",
       "\t 0.7161379    & 0.1557208313 & 0.102118771  & 0.008180620  & 0.017841928 \\\\\n",
       "\t 0.9865986    & 0.0031941780 & 0.006840289  & 0.001524430  & 0.001842551 \\\\\n",
       "\t 0.5910814    & 0.3613312878 & 0.020105730  & 0.004186642  & 0.023294915 \\\\\n",
       "\\end{tabular}\n"
      ],
      "text/markdown": [
       "\n",
       "| pred.whi | pred.bla | pred.his | pred.asi | pred.oth |\n",
       "|---|---|---|---|---|\n",
       "| 0.9831060    | 0.0005493683 | 0.008515082  | 0.001383999  | 0.006445555  |\n",
       "| 0.7418055    | 0.1667299455 | 0.058974333  | 0.005135683  | 0.027354495  |\n",
       "| 0.4298657    | 0.4646243415 | 0.060784471  | 0.005513481  | 0.039211969  |\n",
       "| 0.7161379    | 0.1557208313 | 0.102118771  | 0.008180620  | 0.017841928  |\n",
       "| 0.9865986    | 0.0031941780 | 0.006840289  | 0.001524430  | 0.001842551  |\n",
       "| 0.5910814    | 0.3613312878 | 0.020105730  | 0.004186642  | 0.023294915  |\n",
       "\n"
      ],
      "text/plain": [
       "  pred.whi  pred.bla     pred.his    pred.asi    pred.oth   \n",
       "1 0.9831060 0.0005493683 0.008515082 0.001383999 0.006445555\n",
       "2 0.7418055 0.1667299455 0.058974333 0.005135683 0.027354495\n",
       "3 0.4298657 0.4646243415 0.060784471 0.005513481 0.039211969\n",
       "4 0.7161379 0.1557208313 0.102118771 0.008180620 0.017841928\n",
       "5 0.9865986 0.0031941780 0.006840289 0.001524430 0.001842551\n",
       "6 0.5910814 0.3613312878 0.020105730 0.004186642 0.023294915"
      ]
     },
     "metadata": {},
     "output_type": "display_data"
    }
   ],
   "source": [
    "# load wru\n",
    "library(wru)\n",
    "\n",
    "# predict race, note we are not using age or gender\n",
    "iu <- predict_race(voter.file = iu, \n",
    "             census.geo = \"tract\", \n",
    "             census.data = census, \n",
    "             age = FALSE, \n",
    "             sex = FALSE,)\n",
    "\n",
    "iu %>% select(contains(\"pred.\")) %>% head"
   ]
  },
  {
   "cell_type": "markdown",
   "metadata": {},
   "source": [
    "To make a prediction on race, we simply assign each observation the race with the maximal posterior probability (note that this method results in some loss of fidelity, as \"M\" and \"N\" get grouped into \"Z\" and we normally collapse \"P\" into \"A\"). "
   ]
  },
  {
   "cell_type": "code",
   "execution_count": 7,
   "metadata": {},
   "outputs": [],
   "source": [
    "codes <- data.frame(race_wru = c(\"W\", \"B\", \"H\", \"A\", \"Z\", \"Z\"),\n",
    "                    code = c(1:5, NA))\n",
    "\n",
    "# predict race and classify by maximal column\n",
    "iu <- iu %>% \n",
    "    mutate(code = as.numeric(apply(select(., pred.whi:pred.oth), 1, which.max))) %>% \n",
    "    left_join(codes, by = \"code\")"
   ]
  },
  {
   "cell_type": "markdown",
   "metadata": {},
   "source": [
    "Lastly, we can report the new distribution of races as well as a confusion matrix of the `wru` races and the original InfoUSA races."
   ]
  },
  {
   "cell_type": "code",
   "execution_count": 8,
   "metadata": {},
   "outputs": [
    {
     "name": "stdout",
     "output_type": "stream",
     "text": [
      "[1] \"wru Race Distribution:\"\n"
     ]
    },
    {
     "data": {
      "text/plain": [
       "\n",
       " A  B  H  W  Z \n",
       " 6 14  6 74  0 "
      ]
     },
     "metadata": {},
     "output_type": "display_data"
    },
    {
     "name": "stdout",
     "output_type": "stream",
     "text": [
      "[1] \"Confusion Matrix:\"\n"
     ]
    },
    {
     "data": {
      "text/plain": [
       "    race_wru\n",
       "race  A  B  H  W  Z\n",
       "   A  1  0  0  2  0\n",
       "   B  0 10  0  3  0\n",
       "   H  0  0  4  1  0\n",
       "   W  3  4  0 65  0\n",
       "   Z  2  0  2  3  0"
      ]
     },
     "metadata": {},
     "output_type": "display_data"
    }
   ],
   "source": [
    "print(\"wru Race Distribution:\")\n",
    "table(iu$race_wru)\n",
    "\n",
    "# collapse \"N\", \"M\", and \"P\", not strictly necessary for the given sample\n",
    "iu$race <- ifelse(iu$race == \"P\", \"A\", iu$race)\n",
    "iu$race <- ifelse(iu$race %in% c(\"M\", \"N\"), \"Z\", iu$race)\n",
    "\n",
    "print(\"Confusion Matrix:\")\n",
    "table(select(iu, race, race_wru))"
   ]
  },
  {
   "cell_type": "markdown",
   "metadata": {},
   "source": [
    "It's a small sample, but looks pretty good!"
   ]
  }
 ],
 "metadata": {
  "kernelspec": {
   "display_name": "R",
   "language": "R",
   "name": "ir"
  },
  "language_info": {
   "codemirror_mode": "r",
   "file_extension": ".r",
   "mimetype": "text/x-r-source",
   "name": "R",
   "pygments_lexer": "r",
   "version": "3.6.1"
  }
 },
 "nbformat": 4,
 "nbformat_minor": 4
}
